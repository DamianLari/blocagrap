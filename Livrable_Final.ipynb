{
  "cells": [
    {
      "cell_type": "markdown",
      "metadata": {
        "id": "06yEnZYN5b_B"
      },
      "source": [
        "# Livrable final\n",
        "## Équipe 6\n",
        "Membres :\n",
        "* Arthur Barrier\n",
        "* Damian Laroche-Ribert\n",
        "* Paul Breon\n",
        "\n",
        "##Introduction :\n",
        "Ce livrable se compose de deux parties principales : La modélisation, suivie de l'implementation et de l'exploitation expérimentale de notre solution.\n",
        "Dans la première partie, nous revisitons les éléments de modélisation formelle présentés dans notre premier livrable, en les mettant à jour avec les derniers ajustements et améliorations. Nous détaillons également la méthode de résolution choisie, en décrivant l'algorithme utilisé. Dans la deuxième partie, nous exposons une étude expérimentale, visant à évaluer les performances de notre solution. Cette étude est basée sur un plan d'expérience rigoureux, intégrant des analyses statistiques. Nous discutons des résultats obtenus, identifions les limitations de notre approche, et proposons des pistes d'amélioration basées sur notre analyse expérimentale.\n",
        "\n"
      ]
    },
    {
      "cell_type": "markdown",
      "metadata": {
        "id": "3YyIf4W95qbJ"
      },
      "source": [
        "# Sommaire\n",
        "* Partie 1\n",
        "  - 1. Modélisation du problème\n",
        "  - 2. Description de la méthode choisie\n",
        "* Partie 2\n",
        "  - 3. Implémentation de l'algorithme\n",
        "  - 4. Exploitation : Etude expérimentale\n",
        "* Conclusion\n"
      ]
    },
    {
      "cell_type": "markdown",
      "metadata": {
        "id": "0haNgyHmgfea"
      },
      "source": [
        "\n",
        "# 1. Modélisation du problème\n",
        "##1.1.  Étude des propriétés théoriques\n",
        "###Étude du problème du voyageur\n",
        "Comme dit précédemment, le problème du voyageur est un problème d'optimisation qui consiste à déterminer, étant donné un ensemble de villes, le plus court circuit passant par chaque ville une seule fois. En vu de notre contexte, nous sommes dans ce cas à la chose près que nous pouvons passer plusieurs fois dans une ville ce qui augmente considérablement la complexitée.\n",
        "## 1.2. Présentation formelle des données\n",
        "\n",
        "Dans le cadre de notre projet, nous avons étudié les différentes méthodes de représentation des réseaux routiers sous forme de graphes. Deux techniques principales sont envisagées : la liste d’adjacence et la matrice d’adjacence. Après une analyse comparative, nous avons décidé d’opter pour la matrice d’adjacence. Voici une présentation des avantages et des inconvénients de chaque méthode, suivie de notre justification pour le choix de la matrice d’adjacence.\n",
        "\n",
        "### Liste d'Adjacence\n",
        "\n",
        "**Avantages :**\n",
        "\n",
        "- **Espace Mémoire** : La liste d’adjacence est généralement plus économe en mémoire, surtout pour les graphes clairsemés (avec beaucoup de nœuds mais peu d’arrêtes). Elle ne stocke que les connexions existantes, ce qui réduit la consommation de mémoire.\n",
        "- **Ajout de Nœuds** : Il est facile d’ajouter de nouveaux nœuds et d’étendre le graphe sans restructurer les données existantes.\n",
        "- **Parcours et Manipulation** : Elle permet un accès rapide aux nœuds adjacents, ce qui peut être avantageux pour certains types d’algorithmes de parcours.\n",
        "\n",
        "**Inconvénients :**\n",
        "\n",
        "- **Accès Direct** : Trouver si un lien direct existe entre deux nœuds peut être plus lent, car il nécessite la recherche dans la liste des voisins.\n",
        "- **Complexité** : Pour les graphes denses (dense graphs), la liste d’adjacence peut devenir complexe à gérer et à parcourir, car chaque nœud peut avoir de nombreux voisins.\n",
        "\n",
        "### Matrice d'Adjacence\n",
        "\n",
        "**Avantages :**\n",
        "\n",
        "- **Accès Direct** : La matrice d’adjacence permet un accès direct et constant (O(1)) pour vérifier l’existence d’une arête entre deux nœuds. Cela facilite et accélère les opérations de vérification de connexions.\n",
        "- **Simplicité de la Structure** : Elle offre une structure de données simple et homogène, où les informations de connexion sont facilement visualisables et manipulables.\n",
        "- **Traitement des Graphes Denses** : Pour les graphes denses, la matrice d’adjacence est particulièrement efficace car elle tire pleinement parti de sa structure compacte.\n",
        "\n",
        "**Inconvénients :**\n",
        "\n",
        "- **Espace Mémoire** : Elle consomme plus de mémoire, surtout pour les graphes clairsemés, car elle stocke toutes les paires possibles de nœuds, même celles sans connexion.\n",
        "- **Ajout de Nœuds** : L’ajout de nœuds peut nécessiter la création d’une nouvelle matrice plus grande, impliquant une copie de l’ancienne matrice et des coûts de réallocation.\n",
        "\n",
        "### Justification du Choix de la Matrice d'Adjacence\n",
        "\n",
        "Pour notre projet, nous avons choisi la matrice d’adjacence pour les raisons suivantes :\n",
        "\n",
        "- **Performance et Efficacité** : L’objectif algorithmique de notre projet consiste à calculer des tournées optimales sur un réseau routier. La rapidité d’accès aux informations de connexion entre villes est cruciale pour optimiser les calculs et minimiser la durée totale des tournées. La matrice d’adjacence, avec son accès direct en O(1), répond parfaitement à cette exigence.\n",
        "- **Gestion de la Complexité** : Étant donné que nous nous attendons à traiter des réseaux routiers potentiellement denses (de nombreuses connexions entre villes), la matrice d’adjacence offre une meilleure gestion de cette complexité par rapport à la liste d’adjacence.\n",
        "- **Simplicité et Clarté** : La structure simple et claire de la matrice d’adjacence facilite la visualisation et la manipulation des données, ce qui est un avantage non négligeable pour le développement et la maintenance du projet.\n",
        "\n",
        "En conclusion, bien que la liste d’adjacence présente des avantages notables en termes de mémoire et de flexibilité, la matrice d’adjacence se révèle plus appropriée pour notre projet spécifique en raison de sa performance, de son efficacité et de sa capacité à gérer des réseaux denses de manière optimale.\n",
        "\n",
        "##1.3. Complexité\n",
        "\n",
        "Pour comprendre la complexité de notre problème, nous allons examiner une série de problèmes de théorie des graphes de complexité décroissante, en partant du problème le plus complexe à résoudre (VRP) jusqu'au problème du cycle Hamiltonien.\n",
        "1. Problème de Routage de Véhicules (VRP)\n",
        "\n",
        "Le problème de tournées de véhicules (VRP) est un problème d'optimisation combinatoire où l'objectif est de trouver le chemin optimal pour un ensemble de véhicules afin de livrer des marchandises à un ensemble de clients tout en minimisant la distance totale parcourue.\n",
        "La complexité du VRP provient de plusieurs facteurs :\n",
        "\n",
        "* La nécessité de gérer plusieurs véhicules.\n",
        "* Le nécessité de trouver un chemin optimisé.\n",
        "* La possibilité de passer plusieurs fois par chaque nœud.\n",
        "\n",
        "Ce problème est une extension classique du problème du voyageur de commerce, et fait partie de la classe des problèmes NP-complet. Cela signifie qu'il n'existe pas d'algorithme polynomial connu pour le résoudre dans tous les cas. La résolution exacte du VRP pour des instances de grande taille est souvent impraticable, ce qui nécessite des approches heuristiques (méthode de calcul qui fournit rapidement une solution réalisable, pas nécessairement optimale ou exacte).\n",
        "\n",
        "2. Problème du Voyageur de Commerce (TSP)\n",
        "\n",
        "Pour simplifier, nous descendons au problème du voyageur de commerce (TSP). Dans le TSP, un seul véhicule doit visiter une liste de villes exactement une fois chacune avant de retourner à la ville de départ, en minimisant la distance totale parcourue.\n",
        "\n",
        "Comparé au VRP, le TSP est plus simple car :\n",
        "\n",
        "* Il n'y a qu'un seul véhicule.\n",
        "* Le véhicule ne peut passer qu'une seule fois par chaque nœud.\n",
        "\n",
        "Le TSP est un problème NP-complet. La différence réside dans sa structure plus simple, ce qui permet d'utiliser des algorithmes exacts comme la programmation linéaire en nombres entiers pour des instances de taille modérée, ou des heuristiques pour des instances plus grandes.\n",
        "\n",
        "3. Cycle Hamiltonien\n",
        "\n",
        "En descendant encore un cran, nous arrivons au problème du cycle Hamiltonien. Un cycle Hamiltonien dans un graphe est un cycle qui passe une fois et une seule par chaque sommet du graphe et revient au point de départ.\n",
        "\n",
        "Le problème du cycle Hamiltonien est également NP-complet et est étroitement lié au TSP. En fait, le TSP peut être vu comme une version pondérée du problème du cycle Hamiltonien où les arêtes du graphe ont des poids représentant les distances entre les villes.\n",
        "\n",
        "##1.4. Bibliographie\n",
        "* https://agreg-maths.fr/uploads/versions/1513/TSP.pdf\n",
        "* https://univ.scholarvox.com/reader/docid/88817457/page/1\n",
        "* https://univ.scholarvox.com/reader/docid/88840776/page/1\n",
        "* https://www.zonensi.fr/NSI/Terminale/C09/graphe_python/#implementation-par-un-dictionnaire\n",
        "* https://www.lirmm.fr/~pvalicov/Cours/archives/Orsay/Algo_Avancee/TD_NP_completude.pdf\n",
        "* https://fr.wikipedia.org/wiki/Probl%C3%A8me_de_tourn%C3%A9es_de_v%C3%A9hicules\n",
        "\n",
        "\n"
      ]
    },
    {
      "cell_type": "markdown",
      "metadata": {
        "id": "HCFHkslckNcT"
      },
      "source": [
        "# 2. Description de la méthode choisie\n",
        "\n",
        "#### Qu'est-ce que l'algorithme des colonies de fourmis (ACO) ?\n",
        "\n",
        "L'algorithme des colonies de fourmis (ACO) est une méthode d'optimisation inspirée par le comportement des colonies de fourmis dans la nature. Les fourmis, lorsqu'elles cherchent de la nourriture, déposent des phéromones sur leur chemin pour marquer les routes favorables. Les autres fourmis suivent ces traces de phéromones, renforçant ainsi les chemins les plus prometteurs. En informatique, cet algorithme est utilisé pour résoudre des problèmes d'optimisation combinatoire, comme le problème du voyageur de commerce (TSP) et, dans notre cas, la tournée de livraison.\n",
        "\n",
        "#### Pourquoi choisir l'algorithme des colonies de fourmis pour une tournée de livraison ?\n",
        "\n",
        "- **Robustesse et adaptabilité** :\n",
        "   - ACO est robuste et peut être appliqué à une large gamme de problèmes d'optimisation combinatoire.\n",
        "   - Il s'adapte bien aux changements dynamiques, ce qui est utile pour des problèmes de logistique où les conditions peuvent varier, comme les nouvelles commandes ou les routes bloquées.\n",
        "\n",
        "- **Solution de haute qualité** :\n",
        "   - ACO tend à trouver des solutions proches de l'optimum global grâce à la coopération entre les fourmis et l'optimisation itérative.\n",
        "   - La mise à jour des phéromones permet aux fourmis d'exploiter les meilleures solutions tout en explorant de nouvelles possibilités.\n",
        "\n",
        "- **Simplicité et parallélisme** :\n",
        "   - L'algorithme est relativement simple à comprendre et à implémenter.\n",
        "   - Il peut être facilement parallélisé, ce qui réduit le temps de calcul et améliore l'efficacité sur des problèmes de grande taille.\n",
        "\n",
        "#### Étapes de l'algorithme ACO\n",
        "\n",
        "- **Initialisation** :\n",
        "   - Créer un ensemble de fourmis et initialiser les niveaux de phéromones sur tous les chemins possibles entre les points de livraison.\n",
        "   - Définir les paramètres de l'algorithme, tels que le nombre de fourmis, le nombre d'itérations, le taux de phéromones, et les coefficients qui déterminent l'importance relative des phéromones et de la distance.\n",
        "\n",
        "- **Construction des solutions** :\n",
        "   - Chaque fourmi construit un chemin en sélectionnant les villes une par une, en se basant sur une probabilité influencée par les niveaux de phéromones et les distances entre les villes.\n",
        "   - Les chemins avec des niveaux de phéromones plus élevés et des distances plus courtes sont plus susceptibles d'être choisis.\n",
        "\n",
        "- **Mise à jour des phéromones** :\n",
        "   - Une fois que toutes les fourmis ont construit leurs chemins, les niveaux de phéromones sur tous les chemins sont mis à jour.\n",
        "   - Les phéromones s'évaporent au fil du temps, ce qui est modélisé par une diminution proportionnelle des niveaux de phéromones.\n",
        "   - Les chemins les plus courts trouvés par les fourmis reçoivent un renforcement de phéromones.\n",
        "\n",
        "- **Évaluation et sélection** :\n",
        "   - Après chaque mise à jour des phéromones, les chemins construits par les fourmis sont évalués en fonction de leur longueur.\n",
        "   - Le meilleur chemin trouvé est conservé et utilisé pour guider les futures itérations.\n",
        "\n",
        "- **Itération** :\n",
        "   - Les étapes de construction, mise à jour des phéromones et évaluation sont répétées pour un nombre défini d'itérations ou jusqu'à ce qu'une solution satisfaisante soit trouvée.\n",
        "\n",
        "\n",
        "#### Conclusion\n",
        "\n",
        "L'algorithme des colonies de fourmis est un choix judicieux pour résoudre la tournée de livraison en raison de sa robustesse, de sa capacité à fournir des solutions de haute qualité, et de sa simplicité d'implémentation. En utilisant ACO, nous pouvons optimiser les chemins de livraison de manière efficace et adaptable, même dans des environnements dynamiques.\n",
        "\n",
        "\n",
        "\n"
      ]
    },
    {
      "cell_type": "markdown",
      "metadata": {
        "id": "zHmKH77Au3pA"
      },
      "source": [
        "# 3. Implementation\n",
        "#### 1. Importation des bibliothèques nécessaires\n"
      ]
    },
    {
      "cell_type": "code",
      "execution_count": null,
      "metadata": {
        "id": "U7iTeTSs3gtL"
      },
      "outputs": [],
      "source": [
        "import numpy as np\n",
        "import networkx as nx\n",
        "import matplotlib.pyplot as plt\n",
        "import time\n",
        "import os\n",
        "import pandas as pd\n",
        "from sklearn.linear_model import LinearRegression"
      ]
    },
    {
      "cell_type": "markdown",
      "metadata": {
        "id": "HSTFx9MU3gWy"
      },
      "source": [
        "**Explication**:\n",
        "Ce bloc importe les bibliothèques nécessaires pour créer et manipuler des graphes (`networkx`), effectuer des calculs numériques (`numpy`), tracer des graphiques (`matplotlib`), gérer les fichiers et le temps (`os`, `time`), manipuler les données (`pandas`) et réaliser des régressions linéaires (`sklearn.linear_model`).\n",
        "\n",
        "#### 2. Création du graphe"
      ]
    },
    {
      "cell_type": "code",
      "execution_count": null,
      "metadata": {
        "id": "cw-m6m663r4x"
      },
      "outputs": [],
      "source": [
        "def create_graph(cities_count, complete=True, threshold=0.5):\n",
        "    mat = np.random.random((cities_count, cities_count))\n",
        "    mat = mat + mat.T\n",
        "    np.fill_diagonal(mat, 0)\n",
        "    adj_matrix = mat * cities_count\n",
        "    if not complete:\n",
        "        adj_matrix[adj_matrix < threshold] = 0\n",
        "    G = nx.from_numpy_array(adj_matrix)\n",
        "    if not nx.is_connected(G):\n",
        "        raise ValueError(\"Le graphe généré n'est pas connecté. Essayez de régénérer la matrice.\")\n",
        "    return G, adj_matrix"
      ]
    },
    {
      "cell_type": "markdown",
      "metadata": {
        "id": "sbTPIq_Q3sVa"
      },
      "source": [
        "**Explication**:\n",
        "Cette fonction crée un graphe aléatoire de `cities_count` nœuds. Si `complete` est `False`, un seuil est appliqué pour éliminer certaines arêtes, rendant le graphe moins dense. La fonction retourne le graphe (`G`) et sa matrice d'adjacence (`adj_matrix`).\n",
        "\n",
        "#### 3. Génération d'un chemin"
      ]
    },
    {
      "cell_type": "code",
      "execution_count": null,
      "metadata": {
        "id": "LUyNv0kY30Ca"
      },
      "outputs": [],
      "source": [
        "def gen_path(start, pheromone, distances, alpha, beta):\n",
        "    path = []\n",
        "    visited = set()\n",
        "    visited.add(start)\n",
        "    prev = start\n",
        "    for _ in range(len(distances) - 1):\n",
        "        move = pick_move(pheromone[prev, :], distances[prev, :], visited, alpha, beta)\n",
        "        path.append((prev, move))\n",
        "        prev = move\n",
        "        visited.add(move)\n",
        "    path.append((prev, start))\n",
        "    return path"
      ]
    },
    {
      "cell_type": "markdown",
      "metadata": {
        "id": "ROpd0iwA30MK"
      },
      "source": [
        "**Explication**:\n",
        "Cette fonction génère un chemin en utilisant les niveaux de phéromones et les distances entre les villes. Le chemin commence à `start`, et à chaque étape, elle choisit le prochain nœud en fonction des niveaux de phéromones et des distances.\n",
        "\n",
        "#### 4. Choix du prochain mouvement"
      ]
    },
    {
      "cell_type": "code",
      "execution_count": null,
      "metadata": {
        "id": "Q8LRey_V30Wk"
      },
      "outputs": [],
      "source": [
        "def pick_move(pheromone_row, dist_row, visited, alpha, beta):\n",
        "    pheromone_row = np.copy(pheromone_row)\n",
        "    pheromone_row[list(visited)] = 0\n",
        "    dist_row[dist_row == 0] = np.inf\n",
        "    with np.errstate(divide='ignore'):\n",
        "        row = pheromone_row ** alpha * ((1.0 / dist_row) ** beta)\n",
        "    row = np.nan_to_num(row)\n",
        "    norm_row = row / row.sum()\n",
        "    move = np.random.choice(range(len(pheromone_row)), 1, p=norm_row)[0]\n",
        "    return move"
      ]
    },
    {
      "cell_type": "markdown",
      "metadata": {
        "id": "_jx5J47830fZ"
      },
      "source": [
        "**Explication**:\n",
        "Cette fonction choisit le prochain nœud à visiter en utilisant une probabilité basée sur les niveaux de phéromones et les distances. Les nœuds déjà visités sont ignorés.\n",
        "\n",
        "#### 5. Génération de tous les chemins"
      ]
    },
    {
      "cell_type": "code",
      "execution_count": null,
      "metadata": {
        "id": "ot0Edkpo30n4"
      },
      "outputs": [],
      "source": [
        "def gen_all_paths(n_ants, pheromone, distances, alpha, beta):\n",
        "    all_paths = []\n",
        "    for i in range(n_ants):\n",
        "        path = gen_path(0, pheromone, distances, alpha, beta)\n",
        "        all_paths.append((path, calc_path_length(path, distances)))\n",
        "    return all_paths"
      ]
    },
    {
      "cell_type": "markdown",
      "metadata": {
        "id": "neMCd4_P4C-D"
      },
      "source": [
        "**Explication**:\n",
        "Cette fonction génère les chemins pour toutes les fourmis (`n_ants`). Chaque chemin est généré à partir de la fonction `gen_path`, et sa longueur est calculée avec `calc_path_length`.\n",
        "\n",
        "#### 6. Calcul de la longueur du chemin"
      ]
    },
    {
      "cell_type": "code",
      "execution_count": null,
      "metadata": {
        "id": "9bWQnPVc4Dbb"
      },
      "outputs": [],
      "source": [
        "def calc_path_length(path, distances):\n",
        "    total_dist = 0\n",
        "    for (i, j) in path:\n",
        "        total_dist += distances[i, j]\n",
        "    return total_dist"
      ]
    },
    {
      "cell_type": "markdown",
      "metadata": {
        "id": "2fj0J-Vc4Dia"
      },
      "source": [
        "**Explication**:\n",
        "Cette fonction calcule la longueur totale d'un chemin donné en sommant les distances entre chaque paire de nœuds dans le chemin.\n",
        "\n",
        "#### 7. Répandre les phéromones"
      ]
    },
    {
      "cell_type": "code",
      "execution_count": null,
      "metadata": {
        "id": "tXnLfq9d4Dpu"
      },
      "outputs": [],
      "source": [
        "def spread_pheromone(all_paths, pheromone, n_best, decay):\n",
        "    sorted_paths = sorted(all_paths, key=lambda x: x[1])\n",
        "    for path, dist in sorted_paths[:n_best]:\n",
        "        for move in path:\n",
        "            pheromone[move] += 1.0 / dist\n",
        "    pheromone *= decay"
      ]
    },
    {
      "cell_type": "markdown",
      "metadata": {
        "id": "xnV0D_oB30wl"
      },
      "source": [
        "**Explication**:\n",
        "Cette fonction met à jour les niveaux de phéromones sur les chemins parcourus par les fourmis. Les meilleures `n_best` fourmis déposent des phéromones proportionnelles à l'inverse de la distance de leur chemin.\n",
        "\n",
        "#### 8. Exécution de l'algorithme ACO"
      ]
    },
    {
      "cell_type": "code",
      "execution_count": null,
      "metadata": {
        "id": "Qo17McpB4NEy"
      },
      "outputs": [],
      "source": [
        "def run_aco(n_ants, n_best, n_iterations, decay, alpha, beta):\n",
        "    pheromone = np.ones(adj_matrix.shape) / cities_count\n",
        "    all_time_shortest_path = (\"placeholder\", np.inf)\n",
        "    path_lengths = []\n",
        "    iteration_times = []\n",
        "    for i in range(n_iterations):\n",
        "        start_time = time.time()\n",
        "        all_paths = gen_all_paths(n_ants, pheromone, adj_matrix, alpha, beta)\n",
        "        spread_pheromone(all_paths, pheromone, n_best, decay)\n",
        "        shortest_path = min(all_paths, key=lambda x: x[1])\n",
        "        iteration_times.append(time.time() - start_time)\n",
        "        path_lengths.append(shortest_path[1])\n",
        "        if shortest_path[1] < all_time_shortest_path[1]:\n",
        "            all_time_shortest_path = shortest_path\n",
        "    return all_time_shortest_path[1], path_lengths, iteration_times\n",
        "```"
      ]
    },
    {
      "cell_type": "markdown",
      "metadata": {
        "id": "i4J2JDIl4NK9"
      },
      "source": [
        "**Explication**:\n",
        "Cette fonction exécute l'algorithme ACO. Elle initialise les niveaux de phéromones, génère les chemins pour toutes les fourmis, met à jour les phéromones, et enregistre la longueur du chemin le plus court à chaque itération.\n",
        "\n",
        "#### 9. Exécution et mesure des paramètres"
      ]
    },
    {
      "cell_type": "code",
      "execution_count": null,
      "metadata": {
        "id": "BLo8yz_d4NQX"
      },
      "outputs": [],
      "source": [
        "def execute_and_measure(param_name, param_values, cities_count, n_ants, n_best, n_iterations, decay, alpha, beta, runs=3):\n",
        "    execution_times = []\n",
        "    path_distances = []\n",
        "    path_convergences = []\n",
        "    iterations_needed = []\n",
        "    iteration_times_all = []\n",
        "\n",
        "    for param_value in param_values:\n",
        "        convergence_sums = np.zeros(n_iterations)\n",
        "        iteration_times_sums = np.zeros(n_iterations)\n",
        "        for _ in range(runs):\n",
        "            G, adj_matrix = create_graph(cities_count, complete=True)\n",
        "            kwargs = {'n_ants': n_ants, 'n_best': n_best, 'n_iterations': n_iterations, 'decay': decay, 'alpha': alpha, 'beta': beta}\n",
        "            kwargs[param_name] = param_value\n",
        "            distance, path_lengths, iteration_times = run_aco(**kwargs)\n",
        "            convergence_sums += np.array(path_lengths)\n",
        "            iteration_times_sums += np.array(iteration_times)\n",
        "            exec_time = sum(iteration_times)\n",
        "            execution_times.append((param_value, exec_time))\n",
        "            path_distances.append((param_value, distance))\n",
        "            iterations_needed.append((param_value, next((i for i, length in enumerate(path_lengths) if length == distance), n_iterations)))\n",
        "        path_convergences.append((param_value, convergence_sums / runs))\n",
        "        iteration_times_all.append((param_value, iteration_times_sums / runs))\n",
        "\n",
        "    return execution_times, path_distances, path_convergences, iterations_needed, iteration_times_all"
      ]
    },
    {
      "cell_type": "markdown",
      "metadata": {
        "id": "I3C6tC1m4NW8"
      },
      "source": [
        "**Explication**:\n",
        "Cette fonction exécute l'algorithme ACO pour différents paramètres (`param_name`) et enregistre les résultats de chaque exécution pour plusieurs répétitions (`runs`). Elle retourne les temps d'exécution, les distances des chemins, les convergences des chemins, les itérations nécessaires pour trouver le chemin le plus court, et les temps d'exécution par itération.\n",
        "\n",
        "#### 10. Tracé des résultats"
      ]
    },
    {
      "cell_type": "code",
      "execution_count": null,
      "metadata": {
        "id": "sI1FBR274NeO"
      },
      "outputs": [],
      "source": [
        "def plot_convergence(convergences, param_values, title, filename, param_name):\n",
        "    plt.figure(figsize=(12, 8))\n",
        "    colors = ['r', 'g', 'b', 'orange']\n",
        "\n",
        "    for i, (param_value, convergence_avg) in enumerate(convergences):\n",
        "        color = colors[param_values.index(param_value) % len(colors)]\n",
        "        plt.plot(convergence_avg, color=color, alpha=0.5, label=f'{param_name}={param_value}')\n",
        "\n",
        "    plt.xlabel('Itérations')\n",
        "    plt.ylabel('Longueur du Chemin')\n",
        "    plt.title(title)\n",
        "    plt.legend()\n",
        "    plt.grid(True)\n",
        "    plt.savefig(filename)\n",
        "    plt.show()\n",
        "\n",
        "def plot_iterations_needed(iterations_needed, param_values, title, filename, param_name):\n",
        "    param_values = np.array([val for val, _ in iterations_needed])\n",
        "    iterations = np.array([iter for _, iter in iterations_needed])\n",
        "\n",
        "    plt.figure(figsize=(12, 8))\n",
        "    plt.scatter(param_values, iterations, color='b')\n",
        "    model = LinearRegression()\n",
        "    param_values_reshaped = param_values.reshape(-1, 1)\n",
        "    model.fit(param_values_reshaped, iterations)\n",
        "    plt.plot(param_values, model.predict(param_values_reshaped), color='red', linewidth=2)\n",
        "    plt.xlabel(f'{param_name}')\n",
        "    plt.ylabel('Itérations Nécessaires')\n",
        "    plt.title(title)\n",
        "    plt.grid(True)\n",
        "    plt.savefig(filename)\n",
        "    plt.show()\n",
        "\n",
        "def plot_execution_times(iteration_times_all, param_values, title, filename, param_name):\n",
        "    plt.figure(figsize=(12, 8))\n",
        "    colors = ['r', 'g', 'b', 'orange']\n",
        "\n",
        "    for i, (param_value, iteration_times_avg) in enumerate(iteration_times_all):\n",
        "        color = colors[param_values.index(param_value) % len(colors)]\n",
        "        plt.plot(iteration_times_avg, color=color, alpha=0.5, label=f'{param_name}={param_value}')\n",
        "\n",
        "    plt.xlabel('Itérations')\n",
        "    plt.ylabel('Temps d\\'Exécution par Itération (s)')\n",
        "    plt.title(title)\n",
        "    plt.legend()\n",
        "    plt.grid(True)\n",
        "    plt.savefig(filename)\n",
        "    plt.show()"
      ]
    },
    {
      "cell_type": "markdown",
      "metadata": {
        "id": "pdbT6zxO4s9t"
      },
      "source": [
        "**Explication**:\n",
        "Ces fonctions tracent les graphiques des convergences des chemins, des itérations nécessaires et des temps d'exécution par itération en fonction des différents paramètres.\n",
        "\n",
        "#### 11. Expériences avec différents paramètres"
      ]
    },
    {
      "cell_type": "code",
      "execution_count": null,
      "metadata": {
        "id": "IvVXCSCP4NoH"
      },
      "outputs": [],
      "source": [
        "valeurs_n_fourmis = [10, 20, 30, 40]\n",
        "temps_exécution, distances_chemin, convergences, itérations_nécessaires, temps_itération_tout = execute_and_measure('n_ants', valeurs_n_fourmis, cities_count, n_ants, n_best, n_iterations, decay, alpha, beta, runs=3)\n",
        "plot_convergence(convergences, valeurs_n_fourmis, 'Convergence pour différents nombres de fourmis', 'convergence_variante_fourmis.png', 'n_ants')\n",
        "plot_iterations_needed(itérations_nécessaires, valeurs_n_fourmis, 'Itérations nécessaires pour différents nombres de fourmis', 'iterations_necessaires_variante_fourmis.png', 'n_ants')\n",
        "\n",
        "# Convergence avec différents nombres de meilleurs chemins\n",
        "valeurs_n_meilleurs_chemins = [2, 5, 10, 15]\n",
        "temps_exécution, distances_chemin, convergences, itérations_nécessaires, temps_itération_tout = execute_and_measure('n_best', valeurs_n_meilleurs_chemins, cities_count, n_ants, n_best, n_iterations, decay, alpha, beta, runs=3)\n",
        "plot_convergence(convergences, valeurs_n_meilleurs_chemins, 'Convergence pour différents nombres de meilleurs chemins', 'convergence_variante_meilleurs_chemins.png', 'n_best')\n",
        "plot_iterations_needed(itérations_nécessaires, valeurs_n_meilleurs_chemins, 'Itérations nécessaires pour différents nombres de meilleurs chemins', 'iterations_necessaires_variante_meilleurs_chemins.png', 'n_best')\n",
        "\n",
        "# Convergence avec différents taux de dégradation\n",
        "valeurs_taux_degradation = [0.3, 0.5, 0.7, 0.9]\n",
        "temps_exécution, distances_chemin, convergences, itérations_nécessaires, temps_itération_tout = execute_and_measure('decay', valeurs_taux_degradation, cities_count, n_ants, n_best, n_iterations, decay, alpha, beta, runs=3)\n",
        "plot_convergence(convergences, valeurs_taux_degradation, 'Convergence pour différents taux de dégradation', 'convergence_variante_degradation.png', 'decay')\n",
        "plot_iterations_needed(itérations_nécessaires, valeurs_taux_degradation, 'Itérations nécessaires pour différents taux de dégradation', 'iterations_necessaires_variante_degradation.png', 'decay')\n",
        "\n",
        "# Convergence avec différentes valeurs de alpha\n",
        "valeurs_alpha = [0.5, 1, 1.5, 2]\n",
        "temps_exécution, distances_chemin, convergences, itérations_nécessaires, temps_itération_tout = execute_and_measure('alpha', valeurs_alpha, cities_count, n_ants, n_best, n_iterations, decay, alpha, beta, runs=3)\n",
        "plot_convergence(convergences, valeurs_alpha, 'Convergence pour différentes valeurs de alpha', 'convergence_variante_alpha.png', 'alpha')\n",
        "plot_iterations_needed(itérations_nécessaires, valeurs_alpha, 'Itérations nécessaires pour différentes valeurs de alpha', 'iterations_necessaires_variante_alpha.png', 'alpha')\n",
        "\n",
        "# Convergence avec différentes valeurs de beta\n",
        "valeurs_beta = [2, 3, 4, 5]\n",
        "temps_exécution, distances_chemin, convergences, itérations_nécessaires, temps_itération_tout = execute_and_measure('beta', valeurs_beta, cities_count, n_ants, n_best, n_iterations, decay, alpha, beta, runs=3)\n",
        "plot_convergence(convergences, valeurs_beta, 'Convergence pour différentes valeurs de beta', 'convergence_variante_beta.png', 'beta')\n",
        "plot_iterations_needed(itérations_nécessaires, valeurs_beta, 'Itérations nécessaires pour différentes valeurs de beta', 'iterations_necessaires_variante_beta.png', 'beta')\n",
        "\n",
        "# Enregistrer les résultats\n",
        "distances_chemin_df = pd.DataFrame(distances_chemin, columns=['valeur_paramètre', 'distance_chemin'])\n",
        "itérations_nécessaires_df = pd.DataFrame(itérations_nécessaires, columns=['valeur_paramètre', 'itérations_nécessaires'])\n",
        "distances_chemin_df.to_csv('distances_chemin.csv', index=False)\n",
        "itérations_nécessaires_df.to_csv('itérations_nécessaires.csv', index=False)"
      ]
    },
    {
      "cell_type": "markdown",
      "metadata": {
        "id": "sBhl8rQW40G2"
      },
      "source": [
        "**Explication**:\n",
        "Ces blocs effectuent des expériences avec différents paramètres (`n_ants`, `n_best`, `decay`, `alpha`, `beta`) et tracent les résultats. Les données résultantes sont enregistrées dans des fichiers CSV pour une analyse ultérieure.\n",
        "\n",
        "### Explication des Paramètres de l'Algorithme des Colonies de Fourmis (ACO)\n",
        "\n",
        "L'ACO est un algorithme inspiré du comportement des fourmis, utilisé pour résoudre des problèmes d'optimisation. Voici une explication des principaux paramètres :\n",
        "\n",
        "#### 1. Nombre de Fourmis (n_ants)\n",
        "- **Description**: Nombre d'agents (fourmis) parcourant le graphe à chaque itération.\n",
        "- **Rôle**: Plus de fourmis augmentent les chances de trouver des solutions optimales, mais accroît le temps de calcul.\n",
        "\n",
        "#### 2. Alpha (alpha)\n",
        "- **Description**: Contrôle l'importance des phéromones dans la prise de décision.\n",
        "- **Rôle**: Un alpha élevé favorise l'exploitation des chemins déjà marqués, tandis qu'un alpha bas encourage l'exploration de nouveaux chemins.\n",
        "\n",
        "#### 3. Beta (beta)\n",
        "- **Description**: Contrôle l'importance de la distance dans la prise de décision.\n",
        "- **Rôle**: Un beta élevé favorise les chemins courts, alors qu'un beta bas réduit cette influence, permettant l'exploration de chemins plus longs mais potentiellement meilleurs.\n",
        "\n",
        "#### 4. Nombre de Meilleurs Chemins (n_best)\n",
        "- **Description**: Nombre de meilleurs chemins utilisés pour déposer des phéromones.\n",
        "- **Rôle**: Plus de chemins permettent une meilleure exploration, mais peuvent diluer les phéromones, compliquant la convergence.\n",
        "\n",
        "#### 5. Nombre d'Itérations (n_iterations)\n",
        "- **Description**: Nombre total de cycles de l'algorithme.\n",
        "- **Rôle**: Plus d'itérations permettent de raffiner les solutions, mais augmentent le temps de calcul.\n",
        "\n",
        "#### 6. Taux de Dégradation (decay)\n",
        "- **Description**: Vitesse à laquelle les phéromones s'évaporent.\n",
        "- **Rôle**: Un taux élevé favorise l'exploration, tandis qu'un taux bas favorise l'exploitation des chemins existants.\n",
        "\n",
        "### Conclusion\n",
        "Chaque paramètre équilibre l'exploration et l'exploitation, influençant la performance de l'ACO. L'ajustement approprié de ces paramètres est essentiel pour optimiser les résultats de l'algorithme.\n",
        "\n",
        "\n",
        "### Interprétation des Résultats\n",
        "\n",
        "#### 1. Convergence pour différents nombres de fourmis\n",
        "\n",
        "**Interprétation**:\n",
        "- Le graphique montre que le nombre de fourmis impacte la convergence de l'algorithme.\n",
        "- Un plus grand nombre de fourmis tend à accélérer la convergence, car la diversité des chemins explorés est plus grande.\n",
        "- Les valeurs se stabilisent autour de la 20ème itération, avec des longueurs de chemin plus courtes pour des nombres de fourmis plus élevés.\n",
        "\n",
        "#### 2. Itérations nécessaires pour différents nombres de fourmis\n",
        "\n",
        "**Interprétation**:\n",
        "- On observe une tendance générale où le nombre d'itérations nécessaires diminue avec l'augmentation du nombre de fourmis.\n",
        "- Cela signifie qu'un nombre plus élevé de fourmis permet d'atteindre la solution optimale plus rapidement.\n",
        "- La droite de régression indique une relation inverse entre le nombre de fourmis et les itérations nécessaires.\n",
        "\n",
        "#### 3. Convergence pour différents nombres de meilleurs chemins\n",
        "\n",
        "**Interprétation**:\n",
        "- La convergence est plus rapide avec un nombre plus faible de meilleurs chemins (n_best).\n",
        "- Cela peut être dû à une intensification plus rapide des chemins les plus courts, réduisant ainsi la durée de la recherche.\n",
        "\n",
        "#### 4. Itérations nécessaires pour différents nombres de meilleurs chemins\n",
        "\n",
        "**Interprétation**:\n",
        "- Les itérations nécessaires augmentent avec le nombre de meilleurs chemins.\n",
        "- Une plus grande valeur de n_best conduit à plus d'itérations avant que l'algorithme converge, car plus de chemins sont renforcés.\n",
        "\n",
        "#### 5. Convergence pour différents taux de dégradation\n",
        "\n",
        "**Interprétation**:\n",
        "- Les taux de dégradation élevés (décay) montrent une convergence plus rapide initialement.\n",
        "- Cependant, les taux de dégradation trop élevés peuvent empêcher une intensification suffisante, menant à une stagnation.\n",
        "\n",
        "#### 6. Itérations nécessaires pour différents taux de dégradation\n",
        "\n",
        "**Interprétation**:\n",
        "- Les itérations nécessaires augmentent avec des taux de dégradation plus élevés.\n",
        "- Une dégradation rapide nécessite plus d'itérations pour que l'algorithme trouve et stabilise la solution optimale.\n",
        "\n",
        "#### 7. Convergence pour différentes valeurs de alpha\n",
        "\n",
        "**Interprétation**:\n",
        "- Une valeur d'alpha plus élevée tend à accélérer la convergence, car elle augmente l'influence des phéromones.\n",
        "- Les valeurs d'alpha plus faibles montrent une convergence plus lente.\n",
        "\n",
        "#### 8. Itérations nécessaires pour différentes valeurs de alpha\n",
        "\n",
        "**Interprétation**:\n",
        "- Les itérations nécessaires diminuent avec l'augmentation de alpha.\n",
        "- Une plus grande influence des phéromones (alpha élevé) permet de converger plus rapidement.\n",
        "\n",
        "#### 9. Convergence pour différentes valeurs de beta\n",
        "\n",
        "**Interprétation**:\n",
        "- Des valeurs plus élevées de beta tendent à favoriser les chemins les plus courts dès le début.\n",
        "- Cependant, une valeur de beta trop élevée peut également conduire à une stagnation prématurée.\n",
        "\n",
        "#### 10. Itérations nécessaires pour différentes valeurs de beta\n",
        "\n",
        "**Interprétation**:\n",
        "- Les itérations nécessaires diminuent avec l'augmentation de beta jusqu'à un certain point, après quoi elles peuvent augmenter.\n",
        "- Cela indique un équilibre à trouver pour la pondération entre distance et phéromones (valeurs de beta).\n",
        "\n",
        "Ces graphiques et leurs interprétations aident à comprendre l'impact des différents paramètres sur l'efficacité et la convergence de l'algorithme des fourmis. Ces analyses peuvent être utilisées pour optimiser les paramètres de l'algorithme pour une application spécifique, comme la planification de tournées de livraison."
      ]
    },
    {
      "cell_type": "markdown",
      "metadata": {
        "id": "VU1wY0n7vLB6"
      },
      "source": [
        "#4. Etude experimentale\n"
      ]
    },
    {
      "cell_type": "code",
      "execution_count": null,
      "metadata": {
        "id": "C8eP52Z5vUwr"
      },
      "outputs": [],
      "source": []
    }
  ],
  "metadata": {
    "colab": {
      "collapsed_sections": [
        "VU1wY0n7vLB6"
      ],
      "provenance": []
    },
    "kernelspec": {
      "display_name": "Python 3",
      "name": "python3"
    },
    "language_info": {
      "name": "python"
    }
  },
  "nbformat": 4,
  "nbformat_minor": 0
}
